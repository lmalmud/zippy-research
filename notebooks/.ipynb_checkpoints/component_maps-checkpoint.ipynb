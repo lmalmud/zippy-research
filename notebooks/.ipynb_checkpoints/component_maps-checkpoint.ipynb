{
 "cells": [
  {
   "cell_type": "markdown",
   "id": "8b490078",
   "metadata": {},
   "source": [
    "## Component Maps\n",
    "This notebook will demonstrate the correctness of the component maps that will form $f_a$.\n",
    "\n",
    "To configure the environment you may need to run:\n",
    "```\n",
    "poetry env activate\n",
    "python -m ipykernel install --user --name=zippy-env --display-name \"Python (zippy-env)\"\n",
    "```\n",
    "\n",
    "Then select from the menu within Jupyter."
   ]
  },
  {
   "cell_type": "code",
   "execution_count": 1,
   "id": "d54d42a1",
   "metadata": {},
   "outputs": [
    {
     "ename": "ModuleNotFoundError",
     "evalue": "No module named 'zippy.f_a'",
     "output_type": "error",
     "traceback": [
      "\u001b[31m---------------------------------------------------------------------------\u001b[39m",
      "\u001b[31mModuleNotFoundError\u001b[39m                       Traceback (most recent call last)",
      "\u001b[36mCell\u001b[39m\u001b[36m \u001b[39m\u001b[32mIn[1]\u001b[39m\u001b[32m, line 2\u001b[39m\n\u001b[32m      1\u001b[39m get_ipython().run_line_magic(\u001b[33m'\u001b[39m\u001b[33mmatplotlib\u001b[39m\u001b[33m'\u001b[39m, \u001b[33m'\u001b[39m\u001b[33minline\u001b[39m\u001b[33m'\u001b[39m)\n\u001b[32m----> \u001b[39m\u001b[32m2\u001b[39m \u001b[38;5;28;01mfrom\u001b[39;00m\u001b[38;5;250m \u001b[39m\u001b[34;01mzippy\u001b[39;00m\u001b[34;01m.\u001b[39;00m\u001b[34;01mf_a\u001b[39;00m\u001b[38;5;250m \u001b[39m\u001b[38;5;28;01mimport\u001b[39;00m F_a\n\u001b[32m      3\u001b[39m \u001b[38;5;28;01mfrom\u001b[39;00m\u001b[38;5;250m \u001b[39m\u001b[34;01mzippy\u001b[39;00m\u001b[34;01m.\u001b[39;00m\u001b[34;01mpoint\u001b[39;00m\u001b[38;5;250m \u001b[39m\u001b[38;5;28;01mimport\u001b[39;00m Point\n",
      "\u001b[31mModuleNotFoundError\u001b[39m: No module named 'zippy.f_a'"
     ]
    }
   ],
   "source": [
    "%matplotlib inline\n",
    "from zippy.f_a import F_a\n",
    "from zippy.point import Point"
   ]
  },
  {
   "cell_type": "code",
   "execution_count": null,
   "id": "4a8ac229",
   "metadata": {},
   "outputs": [],
   "source": [
    "import os\n",
    "os.getcwd()"
   ]
  }
 ],
 "metadata": {
  "kernelspec": {
   "display_name": "Python 3 (ipykernel)",
   "language": "python",
   "name": "python3"
  },
  "language_info": {
   "codemirror_mode": {
    "name": "ipython",
    "version": 3
   },
   "file_extension": ".py",
   "mimetype": "text/x-python",
   "name": "python",
   "nbconvert_exporter": "python",
   "pygments_lexer": "ipython3",
   "version": "3.11.4"
  }
 },
 "nbformat": 4,
 "nbformat_minor": 5
}
